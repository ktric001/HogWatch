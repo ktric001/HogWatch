{
 "cells": [
  {
   "cell_type": "markdown",
   "id": "4b517041",
   "metadata": {},
   "source": [
    "## Import Dependencies"
   ]
  },
  {
   "cell_type": "code",
   "execution_count": 6,
   "id": "09f243cd",
   "metadata": {},
   "outputs": [],
   "source": [
    "import requests\n",
    "import json\n",
    "import pandas as pd\n"
   ]
  },
  {
   "cell_type": "markdown",
   "id": "d1b34946",
   "metadata": {},
   "source": [
    "## Name Constants"
   ]
  },
  {
   "cell_type": "code",
   "execution_count": 7,
   "id": "71653169",
   "metadata": {},
   "outputs": [],
   "source": [
    "td_consumer_key = \"H7KMRYCYW7FGXVBEA2QWUFLIET1QSLKZ\"\n",
    "endpoint = 'https://api.tdameritrade.com/v1/marketdata/{stock_ticker}/quotes?'"
   ]
  },
  {
   "cell_type": "code",
   "execution_count": null,
   "id": "3f54305f",
   "metadata": {},
   "outputs": [],
   "source": []
  },
  {
   "cell_type": "markdown",
   "id": "ac6f9eb4",
   "metadata": {},
   "source": [
    "## Extract"
   ]
  },
  {
   "cell_type": "code",
   "execution_count": 30,
   "id": "0cd500b5",
   "metadata": {},
   "outputs": [],
   "source": [
    "full_url = endpoint.format(stock_ticker='AAL')\n",
    "page = requests.get(url=full_url,params={'apikey' : td_consumer_key})\n",
    "content = json.loads(page.content)"
   ]
  },
  {
   "cell_type": "code",
   "execution_count": 32,
   "id": "ef77e056",
   "metadata": {
    "scrolled": true
   },
   "outputs": [
    {
     "data": {
      "text/plain": [
       "{'AAL': {'assetType': 'EQUITY',\n",
       "  'assetMainType': 'EQUITY',\n",
       "  'cusip': '02376R102',\n",
       "  'symbol': 'AAL',\n",
       "  'description': 'American Airlines Group, Inc. - Common Stock',\n",
       "  'bidPrice': 19.19,\n",
       "  'bidSize': 2600,\n",
       "  'bidId': 'P',\n",
       "  'askPrice': 19.2,\n",
       "  'askSize': 1700,\n",
       "  'askId': 'P',\n",
       "  'lastPrice': 19.23,\n",
       "  'lastSize': 0,\n",
       "  'lastId': 'D',\n",
       "  'openPrice': 19.16,\n",
       "  'highPrice': 19.3,\n",
       "  'lowPrice': 18.9,\n",
       "  'bidTick': ' ',\n",
       "  'closePrice': 19.15,\n",
       "  'netChange': 0.08,\n",
       "  'totalVolume': 27823988,\n",
       "  'quoteTimeInLong': 1635194502812,\n",
       "  'tradeTimeInLong': 1635194645582,\n",
       "  'mark': 19.2,\n",
       "  'exchange': 'q',\n",
       "  'exchangeName': 'NASD',\n",
       "  'marginable': True,\n",
       "  'shortable': True,\n",
       "  'volatility': 0.0192,\n",
       "  'digits': 4,\n",
       "  '52WkHigh': 26.09,\n",
       "  '52WkLow': 10.63,\n",
       "  'nAV': 0.0,\n",
       "  'peRatio': 0.0,\n",
       "  'divAmount': 0.0,\n",
       "  'divYield': 0.0,\n",
       "  'divDate': '',\n",
       "  'securityStatus': 'Normal',\n",
       "  'regularMarketLastPrice': 19.23,\n",
       "  'regularMarketLastSize': 7385,\n",
       "  'regularMarketNetChange': 0.08,\n",
       "  'regularMarketTradeTimeInLong': 1635192000710,\n",
       "  'netPercentChangeInDouble': 0.4178,\n",
       "  'markChangeInDouble': 0.05,\n",
       "  'markPercentChangeInDouble': 0.2611,\n",
       "  'regularMarketPercentChangeInDouble': 0.4178,\n",
       "  'delayed': True,\n",
       "  'realtimeEntitled': False}}"
      ]
     },
     "execution_count": 32,
     "metadata": {},
     "output_type": "execute_result"
    }
   ],
   "source": [
    "content"
   ]
  },
  {
   "cell_type": "code",
   "execution_count": 33,
   "id": "7912e4db",
   "metadata": {},
   "outputs": [],
   "source": [
    "data = pd.DataFrame(content)\n"
   ]
  },
  {
   "cell_type": "code",
   "execution_count": 34,
   "id": "a7193068",
   "metadata": {},
   "outputs": [],
   "source": [
    "tdata = data.T"
   ]
  },
  {
   "cell_type": "code",
   "execution_count": 14,
   "id": "7b868bc0",
   "metadata": {},
   "outputs": [
    {
     "data": {
      "text/html": [
       "<div>\n",
       "<style scoped>\n",
       "    .dataframe tbody tr th:only-of-type {\n",
       "        vertical-align: middle;\n",
       "    }\n",
       "\n",
       "    .dataframe tbody tr th {\n",
       "        vertical-align: top;\n",
       "    }\n",
       "\n",
       "    .dataframe thead th {\n",
       "        text-align: right;\n",
       "    }\n",
       "</style>\n",
       "<table border=\"1\" class=\"dataframe\">\n",
       "  <thead>\n",
       "    <tr style=\"text-align: right;\">\n",
       "      <th></th>\n",
       "      <th>52WkHigh</th>\n",
       "      <th>52WkLow</th>\n",
       "      <th>askId</th>\n",
       "      <th>askPrice</th>\n",
       "      <th>askSize</th>\n",
       "      <th>assetMainType</th>\n",
       "      <th>assetType</th>\n",
       "      <th>bidId</th>\n",
       "      <th>bidPrice</th>\n",
       "      <th>bidSize</th>\n",
       "      <th>...</th>\n",
       "      <th>regularMarketLastSize</th>\n",
       "      <th>regularMarketNetChange</th>\n",
       "      <th>regularMarketPercentChangeInDouble</th>\n",
       "      <th>regularMarketTradeTimeInLong</th>\n",
       "      <th>securityStatus</th>\n",
       "      <th>shortable</th>\n",
       "      <th>symbol</th>\n",
       "      <th>totalVolume</th>\n",
       "      <th>tradeTimeInLong</th>\n",
       "      <th>volatility</th>\n",
       "    </tr>\n",
       "  </thead>\n",
       "  <tbody>\n",
       "    <tr>\n",
       "      <th>AAL</th>\n",
       "      <td>26.09</td>\n",
       "      <td>10.63</td>\n",
       "      <td>P</td>\n",
       "      <td>19.2</td>\n",
       "      <td>2000</td>\n",
       "      <td>EQUITY</td>\n",
       "      <td>EQUITY</td>\n",
       "      <td>P</td>\n",
       "      <td>19.19</td>\n",
       "      <td>1600</td>\n",
       "      <td>...</td>\n",
       "      <td>7385</td>\n",
       "      <td>0.08</td>\n",
       "      <td>0.4178</td>\n",
       "      <td>1635192000710</td>\n",
       "      <td>Normal</td>\n",
       "      <td>True</td>\n",
       "      <td>AAL</td>\n",
       "      <td>27814729</td>\n",
       "      <td>1635194026054</td>\n",
       "      <td>0.019</td>\n",
       "    </tr>\n",
       "  </tbody>\n",
       "</table>\n",
       "<p>1 rows × 48 columns</p>\n",
       "</div>"
      ],
      "text/plain": [
       "    52WkHigh 52WkLow askId askPrice askSize assetMainType assetType bidId  \\\n",
       "AAL    26.09   10.63     P     19.2    2000        EQUITY    EQUITY     P   \n",
       "\n",
       "    bidPrice bidSize  ... regularMarketLastSize regularMarketNetChange  \\\n",
       "AAL    19.19    1600  ...                  7385                   0.08   \n",
       "\n",
       "    regularMarketPercentChangeInDouble regularMarketTradeTimeInLong  \\\n",
       "AAL                             0.4178                1635192000710   \n",
       "\n",
       "    securityStatus shortable symbol totalVolume tradeTimeInLong volatility  \n",
       "AAL         Normal      True    AAL    27814729   1635194026054      0.019  \n",
       "\n",
       "[1 rows x 48 columns]"
      ]
     },
     "execution_count": 14,
     "metadata": {},
     "output_type": "execute_result"
    }
   ],
   "source": [
    "tdata"
   ]
  },
  {
   "cell_type": "code",
   "execution_count": null,
   "id": "eb7c0eb6",
   "metadata": {},
   "outputs": [],
   "source": []
  }
 ],
 "metadata": {
  "kernelspec": {
   "display_name": "Python 3",
   "language": "python",
   "name": "python3"
  },
  "language_info": {
   "codemirror_mode": {
    "name": "ipython",
    "version": 3
   },
   "file_extension": ".py",
   "mimetype": "text/x-python",
   "name": "python",
   "nbconvert_exporter": "python",
   "pygments_lexer": "ipython3",
   "version": "3.8.8"
  }
 },
 "nbformat": 4,
 "nbformat_minor": 5
}
